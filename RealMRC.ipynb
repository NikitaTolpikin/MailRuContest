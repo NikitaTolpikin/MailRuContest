{
  "nbformat": 4,
  "nbformat_minor": 0,
  "metadata": {
    "colab": {
      "name": "RealMRC.ipynb",
      "version": "0.3.2",
      "provenance": [],
      "toc_visible": true
    },
    "kernelspec": {
      "name": "python3",
      "display_name": "Python 3"
    },
    "accelerator": "GPU"
  },
  "cells": [
    {
      "cell_type": "code",
      "metadata": {
        "id": "1eh1LXBgJiDQ",
        "colab_type": "code",
        "colab": {}
      },
      "source": [
        "from google.colab import drive\n",
        "drive.mount('/content/drive')"
      ],
      "execution_count": 0,
      "outputs": []
    },
    {
      "cell_type": "code",
      "metadata": {
        "id": "ZT1gPxkWJsSS",
        "colab_type": "code",
        "colab": {}
      },
      "source": [
        "!pip install pyunpack\n",
        "!pip install patool\n",
        "\n",
        "from pyunpack import Archive\n",
        "Archive('./final_data.rar').extractall('./')"
      ],
      "execution_count": 0,
      "outputs": []
    },
    {
      "cell_type": "code",
      "metadata": {
        "id": "SaTGlEIfe1Ct",
        "colab_type": "code",
        "colab": {}
      },
      "source": [
        "import pandas as pd\n",
        "\n",
        "data = pd.read_csv('./final_data/train_data.csv')\n",
        "answers = pd.read_csv('./final_data/train_answers.csv')\n",
        "merged = data.merge(answers, on='itemId')\n",
        "merged.to_csv('./final_data/merged.csv')"
      ],
      "execution_count": 0,
      "outputs": []
    },
    {
      "cell_type": "markdown",
      "metadata": {
        "id": "b9KHyL54SEE5",
        "colab_type": "text"
      },
      "source": [
        "# Обучение модели\n",
        "Задание гиперпараметров и названия модели"
      ]
    },
    {
      "cell_type": "code",
      "metadata": {
        "id": "SRaohfEsJsez",
        "colab_type": "code",
        "colab": {}
      },
      "source": [
        "run_name ='MRCTest3'\n",
        "data_file = './final_data/merged.csv'\n",
        "save_to = './drive/My Drive/MailRuContest/'\n",
        "val_rate = 0.2\n",
        "mask_size = 256\n",
        "num_channels = 32\n",
        "num_epochs = 5\n",
        "batch_size = 4\n",
        "delta = 1.1"
      ],
      "execution_count": 0,
      "outputs": []
    },
    {
      "cell_type": "code",
      "metadata": {
        "id": "nRhWJcrMJskb",
        "colab_type": "code",
        "colab": {}
      },
      "source": [
        "import tensorflow as tf\n",
        "import keras\n",
        "import numpy as np\n",
        "import model as md\n",
        "import generator_v2 as gn\n",
        "import os\n",
        "import random\n",
        "from matplotlib import pyplot as plt\n",
        "import matplotlib.patches as patches\n",
        "from skimage import io\n",
        "from skimage import measure\n",
        "from skimage.transform import resize\n",
        "from keras.models import load_model"
      ],
      "execution_count": 0,
      "outputs": []
    },
    {
      "cell_type": "markdown",
      "metadata": {
        "id": "GkDJ0xnUShUY",
        "colab_type": "text"
      },
      "source": [
        "Объявление функций для парсинга данных, лосса, метрики и уменьшения скорости обучения с каждой эпохой"
      ]
    },
    {
      "cell_type": "code",
      "metadata": {
        "id": "ZvqphSXPJspt",
        "colab_type": "code",
        "colab": {}
      },
      "source": [
        "def get_data_from_merged_file(data_file):\n",
        "    gtruth = {}\n",
        "    usr_coords = {}\n",
        "    itemIds = []\n",
        "    with open(data_file, mode='r') as f:\n",
        "        print('Parsing annotation files')\n",
        "        first_line = f.readline()\n",
        "        \n",
        "        for line in f:\n",
        "            line_split = line.strip().split(',')\n",
        "            (id_line,userId,itemId,Xmin,Ymin,Xmax,Ymax,Xmin_true,Ymin_true,Xmax_true,Ymax_true) = line_split\n",
        "            if itemId not in usr_coords:\n",
        "                usr_coords[itemId] = [{'Xmin': int(Xmin),'Ymin': int(Ymin),'Xmax': int(Xmax),'Ymax': int(Ymax)}]\n",
        "                gtruth[itemId] = {'Xmin': int(Xmin_true),'Ymin': int(Ymin_true),'Xmax': int(Xmax_true),'Ymax': int(Ymax_true)}\n",
        "                itemIds.append(itemId)\n",
        "            else:\n",
        "                usr_coords[itemId].append({'Xmin': int(Xmin),'Ymin': int(Ymin),'Xmax': int(Xmax),'Ymax': int(Ymax)})\n",
        "    return gtruth, usr_coords, itemIds\n",
        "\n",
        "\n",
        "def iou_loss(y_true, y_pred):\n",
        "    y_true = tf.reshape(y_true, [-1])\n",
        "    y_pred = tf.reshape(y_pred, [-1])\n",
        "    intersection = tf.reduce_sum(y_true * y_pred)\n",
        "    score = (intersection + 1.) / (tf.reduce_sum(y_true) + tf.reduce_sum(y_pred) - intersection + 1.)\n",
        "    return 1 - score\n",
        "\n",
        "\n",
        "def iou_bce_loss(y_true, y_pred):\n",
        "    return 0.8 * keras.losses.binary_crossentropy(y_true, y_pred) + 0.2 * iou_loss(y_true, y_pred)\n",
        "#       return iou_loss(y_true, y_pred)\n",
        "\n",
        "\n",
        "def mean_iou(y_true, y_pred):\n",
        "    y_pred = tf.round(y_pred)\n",
        "    intersect = tf.reduce_sum(y_true * y_pred, axis=[1, 2, 3])\n",
        "    union = tf.reduce_sum(y_true, axis=[1, 2, 3]) + tf.reduce_sum(y_pred, axis=[1, 2, 3])\n",
        "    smooth = tf.ones(tf.shape(intersect))\n",
        "    return tf.reduce_mean((intersect + smooth) / (union - intersect + smooth))\n",
        "\n",
        "\n",
        "def cosine_annealing(x):\n",
        "    lr = 0.001\n",
        "    epochs = num_epochs\n",
        "    return lr*(np.cos(np.pi*x/epochs)+1.)/2\n",
        "\n",
        "def area(box):\n",
        "    return (box[2] - box[0]) * (box[3] - box[1])\n",
        "\n",
        "def intersection_over_union(boxes):\n",
        "    assert(len(boxes) == 8)\n",
        "    boxA = boxes[:4]\n",
        "    boxB = boxes[4:]\n",
        "    \n",
        "    boxAArea = area(boxA)\n",
        "    boxBArea = area(boxB)\n",
        "    \n",
        "    if (boxAArea == 0 or boxBArea == 0):\n",
        "        return 0\n",
        "        \n",
        "    xA = max(boxA[0], boxB[0])\n",
        "    yA = max(boxA[1], boxB[1])\n",
        "    xB = min(boxA[2], boxB[2])\n",
        "    yB = min(boxA[3], boxB[3])\n",
        "\n",
        "    interArea = max(0, xB - xA) * max(0, yB - yA)\n",
        "\n",
        "    \n",
        "    iou = interArea / float(boxAArea + boxBArea - interArea)\n",
        "    return iou"
      ],
      "execution_count": 0,
      "outputs": []
    },
    {
      "cell_type": "markdown",
      "metadata": {
        "id": "upsQJrD0S4W-",
        "colab_type": "text"
      },
      "source": [
        "Парсинг данных и подготовка к обучению"
      ]
    },
    {
      "cell_type": "code",
      "metadata": {
        "id": "itcR9Z0cJsYH",
        "colab_type": "code",
        "colab": {}
      },
      "source": [
        "gtruth, usr_coords, itemIds = get_data_from_merged_file(data_file)\n",
        "\n",
        "random.shuffle(itemIds)\n",
        "n_valid_samples = int(len(itemIds)*val_rate)\n",
        "train_itemIds = itemIds[n_valid_samples:]\n",
        "valid_itemIds = itemIds[:n_valid_samples]\n",
        "\n",
        "with open(os.path.join(save_to, run_name + '.txt'), mode ='w') as f:\n",
        "    for itemId in valid_itemIds:\n",
        "        f.write(itemId + '\\n')\n",
        "\n",
        "print('n train samples', len(train_itemIds))\n",
        "print('n valid samples', len(valid_itemIds))\n",
        "\n",
        "model = md.create_network(input_size=mask_size, channels=num_channels, n_blocks=16, depth=3)\n",
        "keras.backend.get_session().run(tf.global_variables_initializer())\n",
        "model.compile(optimizer='adam',\n",
        "              loss=iou_bce_loss,\n",
        "              metrics=['accuracy', mean_iou])\n",
        "\n",
        "learning_rate = tf.keras.callbacks.LearningRateScheduler(cosine_annealing)\n",
        "stop_training = tf.keras.callbacks.EarlyStopping(monitor='val_mean_iou', mode='max', patience=2, restore_best_weights=True, verbose=1)\n",
        "\n",
        "train_gen = gn.Generator(train_itemIds, usr_coords, gtruth, delta, batch_size=batch_size, mask_size=mask_size,\n",
        "                         shuffle=True, augment=True, predict=False)\n",
        "valid_gen = gn.Generator(valid_itemIds, usr_coords, gtruth, delta, batch_size=batch_size, mask_size=mask_size,\n",
        "                         shuffle=False, predict=False)\n",
        "\n",
        "\n",
        "# model.summary()"
      ],
      "execution_count": 0,
      "outputs": []
    },
    {
      "cell_type": "markdown",
      "metadata": {
        "id": "rPmRaTfDTADZ",
        "colab_type": "text"
      },
      "source": [
        "Визуализация масок юзерских bbox'ов и true-box'ов перед обучением"
      ]
    },
    {
      "cell_type": "code",
      "metadata": {
        "id": "bwUUIJFEJsbL",
        "colab_type": "code",
        "colab": {}
      },
      "source": [
        "for usr_msks, msks in valid_gen:\n",
        "    f, axarr = plt.subplots(1, 4, figsize=(20,15))\n",
        "    axarr = axarr.ravel()\n",
        "    axidx = 0\n",
        "    for usr_msk, msk in zip(usr_msks, msks):\n",
        "        axarr[axidx].imshow(usr_msk[:, :, 0].T, cmap='gray')\n",
        "        comp = msk[:, :, 0] > 0.5\n",
        "        comp = measure.label(comp)\n",
        "        predictionString = ''\n",
        "        for region in measure.regionprops(comp):\n",
        "            x, y, x2, y2 = region.bbox\n",
        "            height = y2 - y\n",
        "            width = x2 - x\n",
        "            axarr[axidx].add_patch(patches.Rectangle((x,y),width,height,linewidth=2,edgecolor='b',facecolor='none'))\n",
        "        axidx += 1\n",
        "    plt.show()\n",
        "    break"
      ],
      "execution_count": 0,
      "outputs": []
    },
    {
      "cell_type": "markdown",
      "metadata": {
        "id": "zPYIFSfsTbws",
        "colab_type": "text"
      },
      "source": [
        "Обучение модели и сохранение результата"
      ]
    },
    {
      "cell_type": "code",
      "metadata": {
        "id": "VTUqEQXBJsOo",
        "colab_type": "code",
        "colab": {}
      },
      "source": [
        "with tf.Session() as sess:\n",
        "    sess.run(tf.global_variables_initializer())\n",
        "    history = model.fit_generator(train_gen, validation_data=valid_gen, callbacks=[learning_rate, stop_training],\n",
        "                              epochs=num_epochs)\n",
        "    model.save(save_to+run_name+'.h5')\n",
        "    model.save_weights(save_to+run_name+'weights_only.h5')"
      ],
      "execution_count": 0,
      "outputs": []
    },
    {
      "cell_type": "markdown",
      "metadata": {
        "id": "D290V50oTmcV",
        "colab_type": "text"
      },
      "source": [
        "# Результат обучения\n",
        "Подгрузка модели"
      ]
    },
    {
      "cell_type": "code",
      "metadata": {
        "id": "1RbCP8mXJsJh",
        "colab_type": "code",
        "colab": {}
      },
      "source": [
        "run_name ='MRCTest3'\n",
        "data_file = './final_data/merged.csv'\n",
        "save_to = './drive/My Drive/MailRuContest/'\n",
        "mask_size = 400\n",
        "batch_size = 4\n",
        "delta = 1.1"
      ],
      "execution_count": 0,
      "outputs": []
    },
    {
      "cell_type": "code",
      "metadata": {
        "id": "2ZIRzIxiKppM",
        "colab_type": "code",
        "outputId": "67ef2f1a-59c7-4712-9e56-89cf3111bd4e",
        "colab": {
          "base_uri": "https://localhost:8080/",
          "height": 53
        }
      },
      "source": [
        "from keras.models import load_model\n",
        "\n",
        "model = load_model(save_to+run_name+'.h5', custom_objects={'iou_bce_loss': iou_bce_loss, 'mean_iou': mean_iou})\n",
        "\n",
        "gtruth, usr_coords, itemIds = get_data_from_merged_file(data_file)\n",
        "\n",
        "valid_itemIds =[]\n",
        "\n",
        "with open(os.path.join(save_to, run_name + '.txt'), mode ='r') as f:\n",
        "    for line in f:\n",
        "        line = line.split('\\n')\n",
        "        valid_itemIds.append(line[0])\n",
        "    \n",
        "print(len(valid_itemIds))\n",
        "    \n",
        "valid_gen = gn.Generator(valid_itemIds, usr_coords, gtruth, delta, batch_size=batch_size, mask_size=mask_size,\n",
        "                         shuffle=False, predict=False)"
      ],
      "execution_count": 0,
      "outputs": [
        {
          "output_type": "stream",
          "text": [
            "Parsing annotation files\n",
            "94\n"
          ],
          "name": "stdout"
        }
      ]
    },
    {
      "cell_type": "markdown",
      "metadata": {
        "id": "TaAEn8oxTu47",
        "colab_type": "text"
      },
      "source": [
        "Визуализация батча масок юзерских bbox'ов с true-box'ами и предсказаниями"
      ]
    },
    {
      "cell_type": "code",
      "metadata": {
        "id": "u1bhl5f7KrAn",
        "colab_type": "code",
        "colab": {}
      },
      "source": [
        "for usr_msks, msks in valid_gen:\n",
        "    preds = model.predict(usr_msks)\n",
        "    f, axarr = plt.subplots(2, 4, figsize=(20,15))\n",
        "    axarr = axarr.ravel()\n",
        "    axidx = 0\n",
        "    for usr_msk, msk, pred in zip(usr_msks, msks, preds):\n",
        "        axarr[axidx].imshow(usr_msk[:, :, 0].T, cmap='gray')\n",
        "        comp = msk[:, :, 0] > 0.5\n",
        "        comp = measure.label(comp)\n",
        "        for region in measure.regionprops(comp):\n",
        "            x, y, x2, y2 = region.bbox\n",
        "            height = y2 - y\n",
        "            width = x2 - x\n",
        "            axarr[axidx].add_patch(patches.Rectangle((x,y),width,height,linewidth=2,edgecolor='b',facecolor='none'))\n",
        "        axarr[axidx+1].imshow(pred[:, :, 0].T, cmap='gray')\n",
        "        comp = pred[:, :, 0] > 0.8\n",
        "        comp = measure.label(comp)\n",
        "        for region in measure.regionprops(comp):\n",
        "            x, y, x2, y2 = region.bbox\n",
        "            height = y2 - y\n",
        "            width = x2 - x\n",
        "            axarr[axidx+1].add_patch(patches.Rectangle((x,y),width,height,linewidth=2,edgecolor='r',facecolor='none'))\n",
        "            axarr[axidx].add_patch(patches.Rectangle((x,y),width,height,linewidth=2,edgecolor='r',facecolor='none'))\n",
        "        axidx += 2\n",
        "    plt.show()\n",
        "    break"
      ],
      "execution_count": 0,
      "outputs": []
    },
    {
      "cell_type": "markdown",
      "metadata": {
        "id": "zEteZI_cT9_j",
        "colab_type": "text"
      },
      "source": [
        "Точный подбор трешхолда с лучшим mean_iou у валид-сета\n",
        "\n"
      ]
    },
    {
      "cell_type": "code",
      "metadata": {
        "id": "pkBmaFrFKrGs",
        "colab_type": "code",
        "colab": {}
      },
      "source": [
        "bottom = 0.5\n",
        "top = 0.7\n",
        "step = 0.1\n",
        "\n",
        "trh = bottom\n",
        "max_mean_iou = 0\n",
        "best_trh = 0\n",
        "while trh< top:\n",
        "    ious = 0\n",
        "    i=0\n",
        "    for usr_msks, msks in valid_gen:\n",
        "        preds = model.predict(usr_msks)        \n",
        "        for msk, pred in zip(msks, preds):\n",
        "            pred = pred[:, :, 0] > trh\n",
        "            pred = measure.label(pred)\n",
        "            \n",
        "            max_sq = 0\n",
        "            max_pred_box = [0,0,0,0]\n",
        "            for region in measure.regionprops(pred):\n",
        "                x, y, x2, y2 = region.bbox\n",
        "                box = [x, y, x2, y2]\n",
        "                if area(box) > max_sq:\n",
        "                    max_sq = area(box)\n",
        "                    max_pred_box = box\n",
        "                    \n",
        "            msk = msk[:,:,0] > 0.5\n",
        "            msk = measure.label(msk)\n",
        "            max_sq = 0\n",
        "            max_msk_box = [0,0,0,0]\n",
        "            for region in measure.regionprops(msk):\n",
        "                x, y, x2, y2 = region.bbox\n",
        "                box = [x, y, x2, y2]\n",
        "                if area(box) > max_sq:\n",
        "                    max_sq = area(box)\n",
        "                    max_msk_box = box\n",
        "            iou = intersection_over_union(max_pred_box + max_msk_box)\n",
        "            ious+=iou\n",
        "            i+=1\n",
        "    mean_iou = ious/i\n",
        "    \n",
        "    if mean_iou>max_mean_iou:\n",
        "        max_mean_iou = mean_iou\n",
        "        best_trh = trh\n",
        "        print(mean_iou)\n",
        "        print(trh)\n",
        "    else:\n",
        "        print('pass --> '+ str(trh))\n",
        "    trh += step\n",
        "\n",
        "print(best_trh)"
      ],
      "execution_count": 0,
      "outputs": []
    },
    {
      "cell_type": "markdown",
      "metadata": {
        "id": "akRrBMS3Uy-B",
        "colab_type": "text"
      },
      "source": [
        "# Формирование тестового сабмита\n",
        "Подгрузка модели и формирование предсказаний"
      ]
    },
    {
      "cell_type": "code",
      "metadata": {
        "id": "3DZIa20cKq8g",
        "colab_type": "code",
        "colab": {}
      },
      "source": [
        "run_name ='MRCTest3'\n",
        "data_file = './final_data/test_data.csv'\n",
        "save_to = './drive/My Drive/MailRuContest/'\n",
        "result_file ='./sample_data.csv'\n",
        "mask_size = 256\n",
        "batch_size = 4\n",
        "delta = 1.1\n",
        "trashhold = 0.82"
      ],
      "execution_count": 0,
      "outputs": []
    },
    {
      "cell_type": "code",
      "metadata": {
        "id": "axWNW1dDLUYG",
        "colab_type": "code",
        "colab": {}
      },
      "source": [
        "def get_data_from_test_file(data_file):\n",
        "    usr_coords = {}\n",
        "    itemIds = []\n",
        "    with open(data_file, mode='r') as f:\n",
        "        print('Parsing annotation files')\n",
        "        first_line = f.readline()\n",
        "        \n",
        "        for line in f:\n",
        "            line_split = line.strip().split(',')\n",
        "            (userId,itemId,Xmin,Ymin,Xmax,Ymax) = line_split\n",
        "            if itemId not in usr_coords:\n",
        "                usr_coords[itemId] = [{'Xmin': int(Xmin),'Ymin': int(Ymin),'Xmax': int(Xmax),'Ymax': int(Ymax)}]\n",
        "                itemIds.append(itemId)\n",
        "            else:\n",
        "                usr_coords[itemId].append({'Xmin': int(Xmin),'Ymin': int(Ymin),'Xmax': int(Xmax),'Ymax': int(Ymax)})\n",
        "    return usr_coords, itemIds\n",
        "\n",
        "from keras.models import load_model\n",
        "import preprocessor as pr\n",
        "\n",
        "model = load_model(save_to+run_name+'.h5', custom_objects={'iou_bce_loss': iou_bce_loss, 'mean_iou': mean_iou})\n",
        "\n",
        "usr_coords, itemIds = get_data_from_test_file(data_file)\n",
        "\n",
        "prep = pr.Preprocessor(usr_coords, delta, mask_size)\n",
        "\n",
        "help_info = {}\n",
        "result = []\n",
        "result_row =[]\n",
        "\n",
        "for itemId in itemIds:\n",
        "    msk, koef, xmin, ymin, dw, dh = prep.get_mask(itemId)\n",
        "    help_info[itemId] = [msk, koef, xmin, ymin, dw, dh]\n",
        "    \n",
        "for i in range(0, len(itemIds), batch_size):\n",
        "    batch = []\n",
        "    \n",
        "    if i+batch_size > len(itemIds):\n",
        "        endpoint = len(itemIds)\n",
        "    else:\n",
        "        endpoint = i+batch_size\n",
        "        \n",
        "    for itemId in itemIds[i:endpoint]:\n",
        "        batch.append(help_info[itemId][0])\n",
        "    \n",
        "    preds = model.predict(np.array(batch))\n",
        "    \n",
        "    j=0\n",
        "    for itemId in itemIds[i:endpoint]:\n",
        "        x1, y1, x2, y2 = prep.get_coords_from_mask(preds[j], help_info[itemId][1],\n",
        "                                                   help_info[itemId][2], help_info[itemId][3],\n",
        "                                                   help_info[itemId][4], help_info[itemId][5],\n",
        "                                                   trashhold = trashhold)\n",
        "        result.append([itemId, x1, y1,x2, y2])\n",
        "        result_row.append([itemId, preds[j]])\n",
        "        j+=1"
      ],
      "execution_count": 0,
      "outputs": []
    },
    {
      "cell_type": "markdown",
      "metadata": {
        "id": "3cDm70hzVVJR",
        "colab_type": "text"
      },
      "source": [
        "Визуализация предсказаний"
      ]
    },
    {
      "cell_type": "code",
      "metadata": {
        "id": "fJveHMjTLUUO",
        "colab_type": "code",
        "colab": {}
      },
      "source": [
        "f, axarr = plt.subplots(4, 4, figsize=(20,15))\n",
        "axidx = 0\n",
        "axarr = axarr.ravel()\n",
        "\n",
        "for i in range(0, 16):\n",
        "    itemId = result_row[i][0]\n",
        "    axarr[axidx].imshow(help_info[itemId][0][:, :, 0].T, cmap='gray')\n",
        "    comp = result_row[i][1][:, :, 0] > trashhold\n",
        "    comp = measure.label(comp)\n",
        "    for region in measure.regionprops(comp):\n",
        "        x, y, x2, y2 = region.bbox\n",
        "        height = y2 - y\n",
        "        width = x2 - x\n",
        "        axarr[axidx].add_patch(patches.Rectangle((x,y),width,height,linewidth=2,edgecolor='r',facecolor='none'))\n",
        "    axidx +=1"
      ],
      "execution_count": 0,
      "outputs": []
    },
    {
      "cell_type": "markdown",
      "metadata": {
        "id": "O0zoWgP3Va5f",
        "colab_type": "text"
      },
      "source": [
        "Запись тестового сабмита"
      ]
    },
    {
      "cell_type": "code",
      "metadata": {
        "id": "6-Fh9DitUlY0",
        "colab_type": "code",
        "colab": {}
      },
      "source": [
        "from csv import writer\n",
        "print(len(result))\n",
        "\n",
        "with open(result_file, mode='w', encoding='utf-8') as f:\n",
        "    wrtr = writer(f, delimiter=',')\n",
        "    for row in result:\n",
        "        wrtr.writerow(row)"
      ],
      "execution_count": 0,
      "outputs": []
    }
  ]
}